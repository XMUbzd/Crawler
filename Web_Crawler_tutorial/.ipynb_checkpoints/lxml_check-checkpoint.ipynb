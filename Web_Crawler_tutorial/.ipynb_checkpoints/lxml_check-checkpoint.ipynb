{
 "cells": [
  {
   "cell_type": "code",
   "execution_count": 1,
   "metadata": {},
   "outputs": [
    {
     "name": "stdout",
     "output_type": "stream",
     "text": [
      "['厦门大学']\n"
     ]
    }
   ],
   "source": [
    "import requests\n",
    "from lxml import etree\n",
    "\n",
    "headers = {'User-Agent': 'Mozilla/5.0 (Windows NT 10.0; Win64; x64) AppleWebKit/537.36 (KHTML, like Gecko) Chrome/75.0.3770.142 Safari/537.36'}\n",
    "\n",
    "html = requests.get('https://baike.baidu.com/item/%E5%8E%A6%E9%97%A8%E5%A4%A7%E5%AD%A6',headers =headers)\n",
    "\n",
    "html.encoding='utf-8'\n",
    "\n",
    "html_xml = etree.HTML(html.text)\n",
    "sen = html_xml.xpath('//dd[contains(@class,\"lemmaWgt-lemmaTitle-title\")]/h1//text()')\n",
    "print(sen)"
   ]
  },
  {
   "cell_type": "code",
   "execution_count": 4,
   "metadata": {},
   "outputs": [
    {
     "name": "stdout",
     "output_type": "stream",
     "text": [
      "['外文名']\n",
      "['\\nXiamen University\\n']\n"
     ]
    }
   ],
   "source": [
    "import requests\n",
    "from lxml import etree\n",
    "\n",
    "headers = {'User-Agent': 'Mozilla/5.0 (Windows NT 10.0; Win64; x64) AppleWebKit/537.36 (KHTML, like Gecko) Chrome/75.0.3770.142 Safari/537.36'}\n",
    "\n",
    "html = requests.get('https://baike.baidu.com/item/%E5%8E%A6%E9%97%A8%E5%A4%A7%E5%AD%A6',headers =headers)\n",
    "\n",
    "html.encoding='utf-8'\n",
    "\n",
    "html_xml = etree.HTML(html.text)\n",
    "# sen = html_xml.xpath('//dd[contains(@class,\"lemmaWgt-lemmaTitle-title\")]/h1//text()')\n",
    "key = html_xml.xpath('//dl[contains(@class,\"basicInfo-block basicInfo-left\")]/dt[2]//text()')\n",
    "value = html_xml.xpath('//dl[contains(@class,\"basicInfo-block basicInfo-left\")]/dd[2]//text()')\n",
    "print(key)\n",
    "print(value)"
   ]
  },
  {
   "cell_type": "code",
   "execution_count": 6,
   "metadata": {},
   "outputs": [],
   "source": [
    "len_dt =  len(html_xml.xpath('//dl[contains(@class,\"basicInfo-block basicInfo-left\")]/dt'))"
   ]
  },
  {
   "cell_type": "code",
   "execution_count": 7,
   "metadata": {},
   "outputs": [
    {
     "data": {
      "text/plain": [
       "13"
      ]
     },
     "execution_count": 7,
     "metadata": {},
     "output_type": "execute_result"
    }
   ],
   "source": [
    "len_dt"
   ]
  },
  {
   "cell_type": "code",
   "execution_count": 19,
   "metadata": {},
   "outputs": [],
   "source": [
    "key = []\n",
    "value = []\n",
    "for i in range(len_dt):\n",
    "    key.append(html_xml.xpath('//dl[contains(@class,\"basicInfo-block basicInfo-left\")]/dt[{}]//text()'.format(i+1)))\n",
    "    value.append(html_xml.xpath('//dl[contains(@class,\"basicInfo-block basicInfo-left\")]/dd[{}]//text()'.format(i+1)))"
   ]
  },
  {
   "cell_type": "code",
   "execution_count": 20,
   "metadata": {},
   "outputs": [
    {
     "data": {
      "text/plain": [
       "[['中文名'],\n",
       " ['外文名'],\n",
       " ['简\\xa0\\xa0\\xa0\\xa0称'],\n",
       " ['创办人'],\n",
       " ['创办时间'],\n",
       " ['类\\xa0\\xa0\\xa0\\xa0别'],\n",
       " ['类\\xa0\\xa0\\xa0\\xa0型'],\n",
       " ['属\\xa0\\xa0\\xa0\\xa0性'],\n",
       " ['主管部门'],\n",
       " ['现任领导'],\n",
       " ['专职院士'],\n",
       " ['硕士点'],\n",
       " ['博士点']]"
      ]
     },
     "execution_count": 20,
     "metadata": {},
     "output_type": "execute_result"
    }
   ],
   "source": [
    "key"
   ]
  },
  {
   "cell_type": "code",
   "execution_count": 21,
   "metadata": {},
   "outputs": [
    {
     "data": {
      "text/plain": [
       "[['\\n厦门大学\\n'],\n",
       " ['\\nXiamen University\\n'],\n",
       " ['\\n厦大（XMU）\\n'],\n",
       " ['\\n陈嘉庚\\n'],\n",
       " ['\\n', '1921年', '4月6日\\n'],\n",
       " ['\\n公立大学\\n'],\n",
       " ['\\n综合类\\n'],\n",
       " ['\\n',\n",
       "  '211工程',\n",
       "  '（1997年）\\xa0\\n',\n",
       "  '985工程',\n",
       "  '（2001年）\\xa0\\n',\n",
       "  '111计划',\n",
       "  '（2006年）\\xa0\\n',\n",
       "  '2011计划',\n",
       "  '（2014年）\\xa0\\n',\n",
       "  '世界一流大学建设高校',\n",
       "  '（2017年）\\n',\n",
       "  '展开',\n",
       "  '\\n',\n",
       "  '\\n',\n",
       "  '\\n',\n",
       "  '属性',\n",
       "  '\\n',\n",
       "  '\\n',\n",
       "  '211工程',\n",
       "  '（1997年）\\xa0\\n',\n",
       "  '985工程',\n",
       "  '（2001年）\\xa0\\n',\n",
       "  '111计划',\n",
       "  '（2006年）\\xa0\\n',\n",
       "  '2011计划',\n",
       "  '（2014年）\\xa0\\n',\n",
       "  '世界一流大学建设高校',\n",
       "  '（2017年）\\n',\n",
       "  '\\n研究生院\\n',\n",
       "  '自主招生\\n',\n",
       "  '国防生\\n',\n",
       "  '收起',\n",
       "  '\\n',\n",
       "  '\\n',\n",
       "  '\\n',\n",
       "  '\\n'],\n",
       " ['\\n中华人民共和国教育部\\n'],\n",
       " ['\\n党委书记：', '张彦', '\\n', '校长：', '张荣', '\\n'],\n",
       " ['\\n院士22人（含双聘院士9人）', '\\n[5]', '\\xa0', '\\n'],\n",
       " ['\\n学术学位授权一级学科52个\\n', '学术学位授权二级学科3个（不含一级学科覆盖）\\xa0\\n', '专业学位授权类别24个\\n'],\n",
       " ['\\n学术学位授权一级学科33个\\n', '学术学位授权二级学科3个（不含一级学科覆盖）\\n', '专业学位授权类别1个\\n']]"
      ]
     },
     "execution_count": 21,
     "metadata": {},
     "output_type": "execute_result"
    }
   ],
   "source": [
    "value"
   ]
  },
  {
   "cell_type": "markdown",
   "metadata": {},
   "source": [
    "- 这里我们只取中文，英文或者是数字，但是这个一定吗，不一定，因此数据清洗的工作需要对其数据业务有第一定的了解性才能够取做，否则容易导致数据丢失，因此其自动化程度无论怎么发展，正则匹配的方式永远都是它最最基本的方法"
   ]
  },
  {
   "cell_type": "markdown",
   "metadata": {},
   "source": [
    "- 所爬数据最后存储为 subject，relation， object的形式 ，这里subject 均为厦门大学 relation 为key，object 为value ，这是知识图谱三元组的基本形式"
   ]
  },
  {
   "cell_type": "code",
   "execution_count": 25,
   "metadata": {},
   "outputs": [],
   "source": [
    "import pandas as pd\n",
    "\n",
    "subject = ['厦门大学' for i in range(len(key))] \n",
    "\n",
    "#字典中的key值即为csv中列名\n",
    "dataframe = pd.DataFrame({'subject':subject,'relation':key,'value':value})\n",
    "\n",
    "#将DataFrame存储为csv,index表示是否显示行名，default=True\n",
    "dataframe.to_csv(\"xmu_info.csv\",index=False,sep=',')"
   ]
  },
  {
   "cell_type": "code",
   "execution_count": 2,
   "metadata": {},
   "outputs": [],
   "source": [
    "import pandas as pd\n",
    "xmu = pd.read_csv(\"xmu_info.csv\")"
   ]
  },
  {
   "cell_type": "code",
   "execution_count": 3,
   "metadata": {},
   "outputs": [
    {
     "data": {
      "text/html": [
       "<div>\n",
       "<style scoped>\n",
       "    .dataframe tbody tr th:only-of-type {\n",
       "        vertical-align: middle;\n",
       "    }\n",
       "\n",
       "    .dataframe tbody tr th {\n",
       "        vertical-align: top;\n",
       "    }\n",
       "\n",
       "    .dataframe thead th {\n",
       "        text-align: right;\n",
       "    }\n",
       "</style>\n",
       "<table border=\"1\" class=\"dataframe\">\n",
       "  <thead>\n",
       "    <tr style=\"text-align: right;\">\n",
       "      <th></th>\n",
       "      <th>subject</th>\n",
       "      <th>relation</th>\n",
       "      <th>value</th>\n",
       "    </tr>\n",
       "  </thead>\n",
       "  <tbody>\n",
       "    <tr>\n",
       "      <th>0</th>\n",
       "      <td>厦门大学</td>\n",
       "      <td>['中文名']</td>\n",
       "      <td>['\\n厦门大学\\n']</td>\n",
       "    </tr>\n",
       "    <tr>\n",
       "      <th>1</th>\n",
       "      <td>厦门大学</td>\n",
       "      <td>['外文名']</td>\n",
       "      <td>['\\nXiamen University\\n']</td>\n",
       "    </tr>\n",
       "    <tr>\n",
       "      <th>2</th>\n",
       "      <td>厦门大学</td>\n",
       "      <td>['简\\xa0\\xa0\\xa0\\xa0称']</td>\n",
       "      <td>['\\n厦大（XMU）\\n']</td>\n",
       "    </tr>\n",
       "    <tr>\n",
       "      <th>3</th>\n",
       "      <td>厦门大学</td>\n",
       "      <td>['创办人']</td>\n",
       "      <td>['\\n陈嘉庚\\n']</td>\n",
       "    </tr>\n",
       "    <tr>\n",
       "      <th>4</th>\n",
       "      <td>厦门大学</td>\n",
       "      <td>['创办时间']</td>\n",
       "      <td>['\\n', '1921年', '4月6日\\n']</td>\n",
       "    </tr>\n",
       "    <tr>\n",
       "      <th>5</th>\n",
       "      <td>厦门大学</td>\n",
       "      <td>['类\\xa0\\xa0\\xa0\\xa0别']</td>\n",
       "      <td>['\\n公立大学\\n']</td>\n",
       "    </tr>\n",
       "    <tr>\n",
       "      <th>6</th>\n",
       "      <td>厦门大学</td>\n",
       "      <td>['类\\xa0\\xa0\\xa0\\xa0型']</td>\n",
       "      <td>['\\n综合类\\n']</td>\n",
       "    </tr>\n",
       "    <tr>\n",
       "      <th>7</th>\n",
       "      <td>厦门大学</td>\n",
       "      <td>['属\\xa0\\xa0\\xa0\\xa0性']</td>\n",
       "      <td>['\\n', '211工程', '（1997年）\\xa0\\n', '985工程', '（20...</td>\n",
       "    </tr>\n",
       "    <tr>\n",
       "      <th>8</th>\n",
       "      <td>厦门大学</td>\n",
       "      <td>['主管部门']</td>\n",
       "      <td>['\\n中华人民共和国教育部\\n']</td>\n",
       "    </tr>\n",
       "    <tr>\n",
       "      <th>9</th>\n",
       "      <td>厦门大学</td>\n",
       "      <td>['现任领导']</td>\n",
       "      <td>['\\n党委书记：', '张彦', '\\n', '校长：', '张荣', '\\n']</td>\n",
       "    </tr>\n",
       "    <tr>\n",
       "      <th>10</th>\n",
       "      <td>厦门大学</td>\n",
       "      <td>['专职院士']</td>\n",
       "      <td>['\\n院士22人（含双聘院士9人）', '\\n[5]', '\\xa0', '\\n']</td>\n",
       "    </tr>\n",
       "    <tr>\n",
       "      <th>11</th>\n",
       "      <td>厦门大学</td>\n",
       "      <td>['硕士点']</td>\n",
       "      <td>['\\n学术学位授权一级学科52个\\n', '学术学位授权二级学科3个（不含一级学科覆盖）\\...</td>\n",
       "    </tr>\n",
       "    <tr>\n",
       "      <th>12</th>\n",
       "      <td>厦门大学</td>\n",
       "      <td>['博士点']</td>\n",
       "      <td>['\\n学术学位授权一级学科33个\\n', '学术学位授权二级学科3个（不含一级学科覆盖）\\...</td>\n",
       "    </tr>\n",
       "  </tbody>\n",
       "</table>\n",
       "</div>"
      ],
      "text/plain": [
       "   subject                relation  \\\n",
       "0     厦门大学                 ['中文名']   \n",
       "1     厦门大学                 ['外文名']   \n",
       "2     厦门大学  ['简\\xa0\\xa0\\xa0\\xa0称']   \n",
       "3     厦门大学                 ['创办人']   \n",
       "4     厦门大学                ['创办时间']   \n",
       "5     厦门大学  ['类\\xa0\\xa0\\xa0\\xa0别']   \n",
       "6     厦门大学  ['类\\xa0\\xa0\\xa0\\xa0型']   \n",
       "7     厦门大学  ['属\\xa0\\xa0\\xa0\\xa0性']   \n",
       "8     厦门大学                ['主管部门']   \n",
       "9     厦门大学                ['现任领导']   \n",
       "10    厦门大学                ['专职院士']   \n",
       "11    厦门大学                 ['硕士点']   \n",
       "12    厦门大学                 ['博士点']   \n",
       "\n",
       "                                                value  \n",
       "0                                        ['\\n厦门大学\\n']  \n",
       "1                           ['\\nXiamen University\\n']  \n",
       "2                                     ['\\n厦大（XMU）\\n']  \n",
       "3                                         ['\\n陈嘉庚\\n']  \n",
       "4                           ['\\n', '1921年', '4月6日\\n']  \n",
       "5                                        ['\\n公立大学\\n']  \n",
       "6                                         ['\\n综合类\\n']  \n",
       "7   ['\\n', '211工程', '（1997年）\\xa0\\n', '985工程', '（20...  \n",
       "8                                  ['\\n中华人民共和国教育部\\n']  \n",
       "9          ['\\n党委书记：', '张彦', '\\n', '校长：', '张荣', '\\n']  \n",
       "10        ['\\n院士22人（含双聘院士9人）', '\\n[5]', '\\xa0', '\\n']  \n",
       "11  ['\\n学术学位授权一级学科52个\\n', '学术学位授权二级学科3个（不含一级学科覆盖）\\...  \n",
       "12  ['\\n学术学位授权一级学科33个\\n', '学术学位授权二级学科3个（不含一级学科覆盖）\\...  "
      ]
     },
     "execution_count": 3,
     "metadata": {},
     "output_type": "execute_result"
    }
   ],
   "source": [
    "xmu"
   ]
  },
  {
   "cell_type": "code",
   "execution_count": 18,
   "metadata": {},
   "outputs": [
    {
     "ename": "SyntaxError",
     "evalue": "invalid syntax (<ipython-input-18-06f5071c817c>, line 1)",
     "output_type": "error",
     "traceback": [
      "\u001b[0;36m  File \u001b[0;32m\"<ipython-input-18-06f5071c817c>\"\u001b[0;36m, line \u001b[0;32m1\u001b[0m\n\u001b[0;31m    xmu[(xmu['subject'] == '厦门大学') & (xmu['relation'] == r'['创办人']')]['object']\u001b[0m\n\u001b[0m                                                               ^\u001b[0m\n\u001b[0;31mSyntaxError\u001b[0m\u001b[0;31m:\u001b[0m invalid syntax\n"
     ]
    }
   ],
   "source": [
    "xmu[(xmu['subject'] == '厦门大学') & (xmu['relation'] == r'['创办人']')]['object']"
   ]
  },
  {
   "cell_type": "code",
   "execution_count": null,
   "metadata": {},
   "outputs": [],
   "source": [
    "import requests\n",
    "from lxml import etree\n",
    "import pandas as pd\n",
    "\n",
    "headers = {'User-Agent': 'Mozilla/5.0 (Windows NT 10.0; Win64; x64) AppleWebKit/537.36 (KHTML, like Gecko) Chrome/75.0.3770.142 Safari/537.36'}\n",
    "\n",
    "html = requests.get('https://baike.baidu.com/item/%E5%8E%A6%E9%97%A8%E5%A4%A7%E5%AD%A6',headers =headers)\n",
    "\n",
    "html.encoding='utf-8'\n",
    "\n",
    "html_xml = etree.HTML(html.text)\n",
    "key = []\n",
    "value = []\n",
    "len_dt =  len(html_xml.xpath('//dl[contains(@class,\"basicInfo-block basicInfo-left\")]/dt'))\n",
    "for i in range(len_dt):\n",
    "    key.append(html_xml.xpath('//dl[contains(@class,\"basicInfo-block basicInfo-left\")]/dt[{}]//text()'.format(i+1)))\n",
    "    value.append(html_xml.xpath('//dl[contains(@class,\"basicInfo-block basicInfo-left\")]/dd[{}]//text()'.format(i+1)))\n",
    "\n",
    "\n",
    "subject = ['厦门大学' for i in range(len(key))] \n",
    "\n",
    "#字典中的key值即为csv中列名\n",
    "dataframe = pd.DataFrame({'subject':subject,'relation':key,'value':value})\n",
    "\n",
    "#将DataFrame存储为csv,index表示是否显示行名，default=True\n",
    "dataframe.to_csv(\"xmu_info.csv\",index=False,sep=',')"
   ]
  }
 ],
 "metadata": {
  "hide_input": false,
  "kernelspec": {
   "display_name": "Python 3.6",
   "language": "python",
   "name": "python36"
  },
  "language_info": {
   "codemirror_mode": {
    "name": "ipython",
    "version": 3
   },
   "file_extension": ".py",
   "mimetype": "text/x-python",
   "name": "python",
   "nbconvert_exporter": "python",
   "pygments_lexer": "ipython3",
   "version": "3.6.6"
  },
  "toc": {
   "base_numbering": 1,
   "nav_menu": {},
   "number_sections": true,
   "sideBar": true,
   "skip_h1_title": false,
   "title_cell": "Table of Contents",
   "title_sidebar": "Contents",
   "toc_cell": false,
   "toc_position": {},
   "toc_section_display": true,
   "toc_window_display": false
  }
 },
 "nbformat": 4,
 "nbformat_minor": 2
}
