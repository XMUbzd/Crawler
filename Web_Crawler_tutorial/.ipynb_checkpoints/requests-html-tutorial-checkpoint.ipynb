{
 "cells": [
  {
   "cell_type": "code",
   "execution_count": 4,
   "metadata": {
    "ExecuteTime": {
     "end_time": "2019-07-23T12:53:43.983981Z",
     "start_time": "2019-07-23T12:52:58.10634Z"
    },
    "scrolled": true
   },
   "outputs": [
    {
     "name": "stdout",
     "output_type": "stream",
     "text": [
      "Collecting requests_html\n",
      "  Downloading https://files.pythonhosted.org/packages/24/bc/a4380f09bab3a776182578ce6b2771e57259d0d4dbce178205779abdc347/requests_html-0.10.0-py3-none-any.whl\n",
      "Requirement already satisfied: requests in /home/nbuser/anaconda3_501/lib/python3.6/site-packages (from requests_html) (2.22.0)\n",
      "Collecting fake-useragent (from requests_html)\n",
      "  Downloading https://files.pythonhosted.org/packages/d1/79/af647635d6968e2deb57a208d309f6069d31cb138066d7e821e575112a80/fake-useragent-0.1.11.tar.gz\n",
      "Collecting pyquery (from requests_html)\n",
      "  Downloading https://files.pythonhosted.org/packages/09/c7/ce8c9c37ab8ff8337faad3335c088d60bed4a35a4bed33a64f0e64fbcf29/pyquery-1.4.0-py2.py3-none-any.whl\n",
      "Collecting pyppeteer>=0.0.14 (from requests_html)\n",
      "\u001b[?25l  Downloading https://files.pythonhosted.org/packages/b0/16/a5e8d617994cac605f972523bb25f12e3ff9c30baee29b4a9c50467229d9/pyppeteer-0.0.25.tar.gz (1.2MB)\n",
      "\u001b[K     |████████████████████████████████| 1.2MB 2.4MB/s eta 0:00:01\n",
      "\u001b[?25hCollecting parse (from requests_html)\n",
      "  Downloading https://files.pythonhosted.org/packages/c4/c0/324d280a3298cdad806c3fb64eef31aed5c4dbd15b72a309498fb71c6a17/parse-1.12.0.tar.gz\n",
      "Collecting bs4 (from requests_html)\n",
      "  Downloading https://files.pythonhosted.org/packages/10/ed/7e8b97591f6f456174139ec089c769f89a94a1a4025fe967691de971f314/bs4-0.0.1.tar.gz\n",
      "Collecting w3lib (from requests_html)\n",
      "  Downloading https://files.pythonhosted.org/packages/81/43/9dcf92a77f5f0afe4f4df2407d7289eea01368a08b64bda00dd318ca62a6/w3lib-1.20.0-py2.py3-none-any.whl\n",
      "Requirement already satisfied: chardet<3.1.0,>=3.0.2 in /home/nbuser/anaconda3_501/lib/python3.6/site-packages (from requests->requests_html) (3.0.4)\n",
      "Requirement already satisfied: certifi>=2017.4.17 in /home/nbuser/anaconda3_501/lib/python3.6/site-packages (from requests->requests_html) (2018.10.15)\n",
      "Requirement already satisfied: idna<2.9,>=2.5 in /home/nbuser/anaconda3_501/lib/python3.6/site-packages (from requests->requests_html) (2.7)\n",
      "Requirement already satisfied: urllib3!=1.25.0,!=1.25.1,<1.26,>=1.21.1 in /home/nbuser/anaconda3_501/lib/python3.6/site-packages (from requests->requests_html) (1.23)\n",
      "Requirement already satisfied: lxml>=2.1 in /home/nbuser/anaconda3_501/lib/python3.6/site-packages (from pyquery->requests_html) (4.2.5)\n",
      "Collecting cssselect>0.7.9 (from pyquery->requests_html)\n",
      "  Downloading https://files.pythonhosted.org/packages/7b/44/25b7283e50585f0b4156960691d951b05d061abf4a714078393e51929b30/cssselect-1.0.3-py2.py3-none-any.whl\n",
      "Collecting pyee (from pyppeteer>=0.0.14->requests_html)\n",
      "  Downloading https://files.pythonhosted.org/packages/ad/d8/5608d571ffad3d7de0192b0b3099fe3f38d87c0817ebff3cee19264f0bc2/pyee-6.0.0-py2.py3-none-any.whl\n",
      "Collecting websockets (from pyppeteer>=0.0.14->requests_html)\n",
      "\u001b[?25l  Downloading https://files.pythonhosted.org/packages/c1/d2/bf72435a7d56f94b57efdeae26c76bf0d16f409fd44ff595da745c3fbefd/websockets-8.0.1-cp36-cp36m-manylinux1_x86_64.whl (72kB)\n",
      "\u001b[K     |████████████████████████████████| 81kB 3.5MB/s eta 0:00:011\n",
      "\u001b[?25hRequirement already satisfied: appdirs in /home/nbuser/anaconda3_501/lib/python3.6/site-packages (from pyppeteer>=0.0.14->requests_html) (1.4.3)\n",
      "Requirement already satisfied: tqdm in /home/nbuser/anaconda3_501/lib/python3.6/site-packages (from pyppeteer>=0.0.14->requests_html) (4.26.0)\n",
      "Requirement already satisfied: beautifulsoup4 in /home/nbuser/anaconda3_501/lib/python3.6/site-packages (from bs4->requests_html) (4.6.3)\n",
      "Requirement already satisfied: six>=1.4.1 in /home/nbuser/anaconda3_501/lib/python3.6/site-packages (from w3lib->requests_html) (1.11.0)\n",
      "Building wheels for collected packages: fake-useragent, pyppeteer, parse, bs4\n",
      "  Building wheel for fake-useragent (setup.py) ... \u001b[?25ldone\n",
      "\u001b[?25h  Stored in directory: /home/nbuser/.cache/pip/wheels/5e/63/09/d1dc15179f175357d3f5c00cbffbac37f9e8690d80545143ff\n",
      "  Building wheel for pyppeteer (setup.py) ... \u001b[?25ldone\n",
      "\u001b[?25h  Stored in directory: /home/nbuser/.cache/pip/wheels/34/e0/5d/070e22eceecf7ecd5fa4b86bbc18c1c7d0b90e02e9b57f35eb\n",
      "  Building wheel for parse (setup.py) ... \u001b[?25ldone\n",
      "\u001b[?25h  Stored in directory: /home/nbuser/.cache/pip/wheels/9f/62/d1/c46b7452aa0b2c838080bdd462110cd6c61890151f916aa743\n",
      "  Building wheel for bs4 (setup.py) ... \u001b[?25ldone\n",
      "\u001b[?25h  Stored in directory: /home/nbuser/.cache/pip/wheels/a0/b0/b2/4f80b9456b87abedbc0bf2d52235414c3467d8889be38dd472\n",
      "Successfully built fake-useragent pyppeteer parse bs4\n",
      "Installing collected packages: fake-useragent, cssselect, pyquery, pyee, websockets, pyppeteer, parse, bs4, w3lib, requests-html\n",
      "Successfully installed bs4-0.0.1 cssselect-1.0.3 fake-useragent-0.1.11 parse-1.12.0 pyee-6.0.0 pyppeteer-0.0.25 pyquery-1.4.0 requests-html-0.10.0 w3lib-1.20.0 websockets-8.0.1\n",
      "\u001b[33mWARNING: You are using pip version 19.1.1, however version 19.2.1 is available.\n",
      "You should consider upgrading via the 'pip install --upgrade pip' command.\u001b[0m\n"
     ]
    }
   ],
   "source": [
    "!pip install requests_html"
   ]
  },
  {
   "cell_type": "markdown",
   "metadata": {},
   "source": [
    "- requests_html + css secletor to make it happen"
   ]
  },
  {
   "cell_type": "code",
   "execution_count": 5,
   "metadata": {
    "ExecuteTime": {
     "end_time": "2019-07-23T12:57:43.606744Z",
     "start_time": "2019-07-23T12:57:39.866178Z"
    }
   },
   "outputs": [
    {
     "name": "stdout",
     "output_type": "stream",
     "text": [
      "中文名\n"
     ]
    }
   ],
   "source": [
    "from requests_html import HTMLSession\n",
    "session = HTMLSession()\n",
    "\n",
    "r = session.get('https://baike.baidu.com/item/%E5%8E%A6%E9%97%A8%E5%A4%A7%E5%AD%A6')\n",
    "sel = 'body > div.body-wrapper.feature.feature_small.collegeSmall > div.content-wrapper > div > div.main-content > div.main_tab.main_tab-defaultTab.curTab > div.basic-info.cmn-clearfix > dl.basicInfo-block.basicInfo-left > dt:nth-child(1)'\n",
    "print(r.html.find(sel, first=True).text)"
   ]
  },
  {
   "cell_type": "code",
   "execution_count": 7,
   "metadata": {
    "ExecuteTime": {
     "end_time": "2019-07-23T12:59:58.560543Z",
     "start_time": "2019-07-23T12:59:58.541864Z"
    }
   },
   "outputs": [
    {
     "name": "stdout",
     "output_type": "stream",
     "text": [
      "外文名\n"
     ]
    }
   ],
   "source": [
    "sel = 'body > div.body-wrapper.feature.feature_small.collegeSmall > div.content-wrapper > div > div.main-content > div.main_tab.main_tab-defaultTab.curTab > div.basic-info.cmn-clearfix > dl.basicInfo-block.basicInfo-left > dt:nth-child(3)'\n",
    "print(r.html.find(sel, first=True).text)"
   ]
  },
  {
   "cell_type": "code",
   "execution_count": 10,
   "metadata": {
    "ExecuteTime": {
     "end_time": "2019-07-23T13:05:00.059165Z",
     "start_time": "2019-07-23T13:05:00.040187Z"
    }
   },
   "outputs": [
    {
     "name": "stdout",
     "output_type": "stream",
     "text": [
      "思明校区：福建省厦门市思明区思明南路422号（361005）\n",
      "翔安校区：福建省厦门市翔安区翔安南路（361102）\n",
      "漳州校区：福建漳州招商局经济技术开发区南滨大道300号（363105）\n",
      "马来西亚分校：马来西亚雪兰莪州雪邦沙叻丁宜（43900）\n"
     ]
    }
   ],
   "source": [
    "sel = 'body > div.body-wrapper.feature.feature_small.collegeSmall > div.content-wrapper > div > div.main-content > div.main_tab.main_tab-defaultTab.curTab > div.basic-info.cmn-clearfix > dl.basicInfo-block.basicInfo-right > dd:nth-child(14)'\n",
    "print(r.html.find(sel, first=True).text)"
   ]
  },
  {
   "cell_type": "code",
   "execution_count": null,
   "metadata": {},
   "outputs": [],
   "source": [
    "#QuestionAnswers-answers > div > div > div > div:nth-child(2) > div > div:nth-child(1)"
   ]
  },
  {
   "cell_type": "code",
   "execution_count": 11,
   "metadata": {
    "ExecuteTime": {
     "end_time": "2019-07-23T13:10:17.755529Z",
     "start_time": "2019-07-23T13:10:16.339946Z"
    }
   },
   "outputs": [
    {
     "name": "stdout",
     "output_type": "stream",
     "text": [
      "知乎用户\n",
      "2,753 人赞同了该回答\n",
      "第一步 github的 tutorials 尤其是那个60分钟的入门。只能说比tensorflow简单许多, 我在火车上看了一两个小时就感觉基本入门了. 另外jcjohnson 的Simple examples to introduce PyTorch 也不错\n",
      "第二步 example 参考 pytorch/examples 实现一个最简单的例子(比如训练mnist )。\n",
      "第三步 通读doc PyTorch doc 尤其是autograd的机制，和nn.module ,optim 等相关内容。文档现在已经很完善，而且绝大部分文档都是作者亲自写的，质量很高。\n",
      "第四步 论坛讨论 PyTorch Forums 。论坛很活跃，而且质量很高，pytorch的维护者(作者)回帖很及时的。每天刷一刷帖可以少走很多弯路，避开许多陷阱,消除很多思维惯性.尤其看看那些阅读量高的贴，刷帖能从作者那里学会如何写出bug-free clean and elegant 的代码。如果自己遇到问题可以先搜索一下，一般都能找到解决方案，找不到的话大胆提问，大家都很热心的。\n",
      "第五步 阅读源代码 fork pytorch，pytorch-vision等。相比其他框架，pytorch代码量不大，而且抽象层次没有那么多，很容易读懂的。通过阅读代码可以了解函数和类的机制，此外它的很多函数,模型,模块的实现方法都如教科书般经典。还可以关注官方仓库的issue/pull request, 了解pytorch开发进展，以及避坑。\n",
      "还可以加入 slack群组讨论，e-mail订阅等\n",
      "总之 pytorch入门很简单，代码很优雅，是我用过的最Pythonic的框架. 欢迎入坑。\n",
      "\n",
      "\n",
      "推销一下我写的教程：chenyuntc/pytorch-book 用notebook写的教程，里面还有很多有趣的例子，比如用GAN生成动漫头像，用CharRNN写唐诗，类Prisma的滤镜（风格迁移）和图像描述等\n",
      "\n",
      "\n",
      "---------------------------分割线--------------------------\n",
      "2.20 更新:美化了格式,修正语法. 本来还想补充一些内容, 但是想了想还是算了. 很多时候选择太多反而没了选择. 上面五步是我自己在学习pytorch的时候积累的经验, 个人认为很适合入门,也足够了.\n",
      "1. 关于如何照着example实现简单的例子, 我的做法是认真看几遍example的实现代码.理解透,然后自己从头写, 实现相同的模型, 实在卡住了写不下去可以看一下, 但是绝对不能copy and paste. 当你实现了一个简单的例子(比如tutorial 的 mnist) 基本上对pytorch的主要内容都有了大概的了解. 写的时候会涉及 dataset,nn.module, optim, loss等许多模块, 也算是加深理解. 我用pytorch 写的第一个模型是DCGAN , 寒假在家远程实验室服务器用ipython notebook写的 GitHub-chenyuntc/pytorch-GAN, 然后看到了新出的大作WGAN, 在DCGAN上做了一点点修改, 就实现了WGAN, 是我入门最快的一次.\n",
      "2. 论坛的很多贴都是你以后可能遇到的问题 比如\n",
      "如何Finetune How to perform finetuning in Pytorch?\n",
      "如何从预训练好的网络中的某一层提取特征: How to extract features of an image from a trained model\n",
      "论坛贴比较少, 我觉得其中一个原因是很多问题都不是问题,比如如何共享参数, 这个在tensorflow中有专门的一章讲解, 但是用pytorch写可能都不会意识到有这个问题---直接用就是了 How to create model with sharing weight? 比如如何用在模型运行时实现条件判断--直接用if. 如何查看中间结果?--直接print. 如何修改参数--直接赋值. 相比于tensorflow,pytorch更接近python的写法.\n",
      "3. 关于如何阅读源代码: 我是这样的. fork, clone ,然后用vscode打开--- 大概浏览一下, 知道类, 模块之间的关系. 然后重点阅读一些经典函数的代码, 按ctrl单击调用的函数在不同文件中跳转, 了解函数调用关系. 此外torch-vision中很多模型如ResNet的实现也很简洁.\n",
      "4. 一些其它的例子:\n",
      "50行实现GAN devnag/pytorch\n",
      "pytorch 资源合集 The Incredible PyTorch\n",
      "加强版pytorch tutorial侧重NLP spro/practical-pytorch\n",
      "利用LSTM学习梯度下降法等优化方法：ikostrikov/pytorch-meta-optimizer: A PyTorch implementation of Learning to learn by gradient descent by gradient descent\n",
      "WGAN的官方实现 martinarjovsky/WassersteinGAN\n",
      "####################更新######################\n",
      "\n",
      "\n",
      "安利 @莫烦 的PyTorch教程(视频+代码)详情见专栏文章 等什么, 赶快抱紧 PyTorch 的大腿!\n",
      "#################### end #############################\n",
      "编辑于 2018-01-17\n",
      "赞同 2.8K\n",
      "52 条评论\n",
      "分享\n",
      "收藏\n",
      "感谢收起\n"
     ]
    }
   ],
   "source": [
    "from requests_html import HTMLSession\n",
    "session = HTMLSession()\n",
    "\n",
    "r = session.get('https://www.zhihu.com/question/55720139')\n",
    "sel = '#QuestionAnswers-answers > div > div > div > div:nth-child(2) > div > div:nth-child(1)'\n",
    "print(r.html.find(sel, first=True).text)"
   ]
  },
  {
   "cell_type": "code",
   "execution_count": null,
   "metadata": {},
   "outputs": [],
   "source": [
    "body > div > div.row > div.column.grid-13 > div:nth-child(1) > div.result > ul > li:nth-child(3)"
   ]
  },
  {
   "cell_type": "code",
   "execution_count": 21,
   "metadata": {
    "ExecuteTime": {
     "end_time": "2019-07-23T13:26:55.105766Z",
     "start_time": "2019-07-23T13:26:53.61653Z"
    }
   },
   "outputs": [
    {
     "ename": "AttributeError",
     "evalue": "'NoneType' object has no attribute 'text'",
     "output_type": "error",
     "traceback": [
      "\u001b[0;31m---------------------------------------------------------------------------\u001b[0m",
      "\u001b[0;31mAttributeError\u001b[0m                            Traceback (most recent call last)",
      "\u001b[0;32m<ipython-input-21-7d9674d7659c>\u001b[0m in \u001b[0;36m<module>\u001b[0;34m\u001b[0m\n\u001b[1;32m      4\u001b[0m \u001b[0mr\u001b[0m \u001b[0;34m=\u001b[0m \u001b[0msession\u001b[0m\u001b[0;34m.\u001b[0m\u001b[0mget\u001b[0m\u001b[0;34m(\u001b[0m\u001b[0;34m'https://k.autohome.com.cn/'\u001b[0m\u001b[0;34m)\u001b[0m\u001b[0;34m\u001b[0m\u001b[0m\n\u001b[1;32m      5\u001b[0m \u001b[0msel\u001b[0m \u001b[0;34m=\u001b[0m \u001b[0;34m'body > div > div.row > div.column.grid-13 > div:nth-child(1) > div.result > ul > li:nth-child(1) > div.car-tags > span:nth-child(3)'\u001b[0m\u001b[0;34m\u001b[0m\u001b[0m\n\u001b[0;32m----> 6\u001b[0;31m \u001b[0mprint\u001b[0m\u001b[0;34m(\u001b[0m\u001b[0mr\u001b[0m\u001b[0;34m.\u001b[0m\u001b[0mhtml\u001b[0m\u001b[0;34m.\u001b[0m\u001b[0mfind\u001b[0m\u001b[0;34m(\u001b[0m\u001b[0msel\u001b[0m\u001b[0;34m,\u001b[0m \u001b[0mfirst\u001b[0m\u001b[0;34m=\u001b[0m\u001b[0;32mTrue\u001b[0m\u001b[0;34m)\u001b[0m\u001b[0;34m.\u001b[0m\u001b[0mtext\u001b[0m\u001b[0;34m)\u001b[0m\u001b[0;34m\u001b[0m\u001b[0m\n\u001b[0m",
      "\u001b[0;31mAttributeError\u001b[0m: 'NoneType' object has no attribute 'text'"
     ]
    }
   ],
   "source": [
    "from requests_html import HTMLSession\n",
    "session = HTMLSession()\n",
    "\n",
    "r = session.get('https://k.autohome.com.cn/')\n",
    "sel = 'body > div > div.row > div.column.grid-13 > div:nth-child(1) > div.result > ul > li:nth-child(1) > div.car-tags > span:nth-child(3)'\n",
    "print(r.html.find(sel, first=True).text)"
   ]
  },
  {
   "cell_type": "code",
   "execution_count": 20,
   "metadata": {
    "ExecuteTime": {
     "end_time": "2019-07-23T13:25:34.332727Z",
     "start_time": "2019-07-23T13:25:33.398194Z"
    }
   },
   "outputs": [
    {
     "ename": "AttributeError",
     "evalue": "'NoneType' object has no attribute 'text'",
     "output_type": "error",
     "traceback": [
      "\u001b[0;31m---------------------------------------------------------------------------\u001b[0m",
      "\u001b[0;31mAttributeError\u001b[0m                            Traceback (most recent call last)",
      "\u001b[0;32m<ipython-input-20-8fa522bacd82>\u001b[0m in \u001b[0;36m<module>\u001b[0;34m\u001b[0m\n\u001b[1;32m      4\u001b[0m \u001b[0mr\u001b[0m \u001b[0;34m=\u001b[0m \u001b[0msession\u001b[0m\u001b[0;34m.\u001b[0m\u001b[0mget\u001b[0m\u001b[0;34m(\u001b[0m\u001b[0;34m'https://www.zhihu.com/question/55720139'\u001b[0m\u001b[0;34m)\u001b[0m\u001b[0;34m\u001b[0m\u001b[0m\n\u001b[1;32m      5\u001b[0m \u001b[0msel\u001b[0m \u001b[0;34m=\u001b[0m \u001b[0;34m'#QuestionAnswers-answers > div > div > div > div:nth-child(2) > div > div:nth-child(4)'\u001b[0m\u001b[0;34m\u001b[0m\u001b[0m\n\u001b[0;32m----> 6\u001b[0;31m \u001b[0mprint\u001b[0m\u001b[0;34m(\u001b[0m\u001b[0mr\u001b[0m\u001b[0;34m.\u001b[0m\u001b[0mhtml\u001b[0m\u001b[0;34m.\u001b[0m\u001b[0mfind\u001b[0m\u001b[0;34m(\u001b[0m\u001b[0msel\u001b[0m\u001b[0;34m,\u001b[0m \u001b[0mfirst\u001b[0m\u001b[0;34m=\u001b[0m\u001b[0;32mTrue\u001b[0m\u001b[0;34m)\u001b[0m\u001b[0;34m.\u001b[0m\u001b[0mtext\u001b[0m\u001b[0;34m)\u001b[0m\u001b[0;34m\u001b[0m\u001b[0m\n\u001b[0m",
      "\u001b[0;31mAttributeError\u001b[0m: 'NoneType' object has no attribute 'text'"
     ]
    }
   ],
   "source": [
    "from requests_html import HTMLSession\n",
    "session = HTMLSession()\n",
    "\n",
    "r = session.get('https://www.zhihu.com/question/55720139')\n",
    "sel = '#QuestionAnswers-answers > div > div > div > div:nth-child(2) > div > div:nth-child(4)'\n",
    "print(r.html.find(sel, first=True).text)"
   ]
  },
  {
   "cell_type": "code",
   "execution_count": 28,
   "metadata": {
    "ExecuteTime": {
     "end_time": "2019-07-23T13:52:30.092071Z",
     "start_time": "2019-07-23T13:52:28.741879Z"
    }
   },
   "outputs": [
    {
     "name": "stdout",
     "output_type": "stream",
     "text": [
      "[]\n"
     ]
    }
   ],
   "source": [
    "from lxml import etree\n",
    "import requests\n",
    "\n",
    "headers = {'User-Agent': 'Mozilla/5.0 (Windows NT 10.0; Win64; x64) AppleWebKit/537.36 (KHTML, like Gecko) Chrome/75.0.3770.142 Safari/537.36'}\n",
    "response = requests.get('https://k.autohome.com.cn/', headers = headers)\n",
    "response.encoding='utf-8'\n",
    "\n",
    "html_xml = etree.HTML(response.text)\n",
    "txt = html_xml.xpath('//ul[@class=\"result-car\"]/li[1]/span[1]')\n",
    "print(txt)"
   ]
  },
  {
   "cell_type": "code",
   "execution_count": null,
   "metadata": {},
   "outputs": [],
   "source": [
    "body > div > div.row > div.column.grid-13 > div:nth-child(1) > div.result > ul > li:nth-child(1) > span.car-name"
   ]
  },
  {
   "cell_type": "code",
   "execution_count": 32,
   "metadata": {
    "ExecuteTime": {
     "end_time": "2019-07-23T14:06:14.806806Z",
     "start_time": "2019-07-23T14:05:58.043418Z"
    }
   },
   "outputs": [
    {
     "name": "stdout",
     "output_type": "stream",
     "text": [
      "[]\n"
     ]
    }
   ],
   "source": [
    "from requests_html import HTMLSession\n",
    "session = HTMLSession()\n",
    "\n",
    "r = session.get('https://k.autohome.com.cn/')\n",
    "r.html.render()\n",
    "sel = 'body > div > div.row > div.column.grid-13 > div:nth-child(1) > div.result > ul > li:nth-child(1) > span.car-name'\n",
    "# print(r.html.find(sel, first=True).text)\n",
    "print(r.html.xpath('//ul[@class=\"result-car\"]/li[1]/span[1]'))"
   ]
  },
  {
   "cell_type": "code",
   "execution_count": null,
   "metadata": {},
   "outputs": [],
   "source": [
    "r.html.xpath('a')"
   ]
  },
  {
   "cell_type": "code",
   "execution_count": 51,
   "metadata": {
    "code_folding": []
   },
   "outputs": [],
   "source": [
    "from requests_html import HTMLSession\n",
    "session = HTMLSession()\n",
    "r = session.get('https://baike.baidu.com/item/%E5%8E%A6%E9%97%A8%E5%A4%A7%E5%AD%A6')                         \n",
    "# lenth = len(r.html.xpath('//dl[contains(@class,\"basicInfo-block basicInfo-left\")]/dt''))\n",
    "length_left = len(r.html.xpath('//dl[contains(@class,\"basicInfo-block basicInfo-left\")]/dt'))\n",
    "length_right = len(r.html.xpath('//dl[contains(@class,\"basicInfo-block basicInfo-right\")]/dt'))\n",
    "key = []\n",
    "value = []\n",
    "for i in range(1,length_left+1):                        \n",
    "    sel_key = 'body > div.body-wrapper.feature.feature_small.collegeSmall > div.content-wrapper > div > div.main-content > div.main_tab.main_tab-defaultTab.curTab > div.basic-info.cmn-clearfix > dl.basicInfo-block.basicInfo-left > dt:nth-child({})'.format(2*(i-1)+1) \n",
    "    sel_value = 'body > div.body-wrapper.feature.feature_small.collegeSmall > div.content-wrapper > div > div.main-content > div.main_tab.main_tab-defaultTab.curTab > div.basic-info.cmn-clearfix > dl.basicInfo-block.basicInfo-left > dd:nth-child({})'.format(2*i)\n",
    "    key.append(r.html.find(sel_key, first=True).text) \n",
    "    value.append(r.html.find(sel_value, first=True).text) \n",
    "\n",
    "for i in range(1,length_right+1):                        \n",
    "    sel_key = 'body > div.body-wrapper.feature.feature_small.collegeSmall > div.content-wrapper > div > div.main-content > div.main_tab.main_tab-defaultTab.curTab > div.basic-info.cmn-clearfix > dl.basicInfo-block.basicInfo-right > dt:nth-child({})'.format(2*(i-1)+1)\n",
    "    sel_value = 'body > div.body-wrapper.feature.feature_small.collegeSmall > div.content-wrapper > div > div.main-content > div.main_tab.main_tab-defaultTab.curTab > div.basic-info.cmn-clearfix > dl.basicInfo-block.basicInfo-right > dd:nth-child({})'.format(2*i)\n",
    "    key.append(r.html.find(sel_key, first=True).text) \n",
    "    value.append(r.html.find(sel_value, first=True).text) \n",
    "     "
   ]
  },
  {
   "cell_type": "code",
   "execution_count": 52,
   "metadata": {},
   "outputs": [
    {
     "data": {
      "text/plain": [
       "['中文名',\n",
       " '外文名',\n",
       " '简\\xa0\\xa0\\xa0\\xa0称',\n",
       " '创办人',\n",
       " '创办时间',\n",
       " '类\\xa0\\xa0\\xa0\\xa0别',\n",
       " '类\\xa0\\xa0\\xa0\\xa0型',\n",
       " '属\\xa0\\xa0\\xa0\\xa0性',\n",
       " '主管部门',\n",
       " '现任领导',\n",
       " '专职院士',\n",
       " '硕士点',\n",
       " '博士点',\n",
       " '博士后',\n",
       " '国家重点学科',\n",
       " '院系设置',\n",
       " '校\\xa0\\xa0\\xa0\\xa0训',\n",
       " '校\\xa0\\xa0\\xa0\\xa0歌',\n",
       " '校庆日',\n",
       " '地\\xa0\\xa0\\xa0\\xa0址',\n",
       " '院校代码',\n",
       " '主要奖项',\n",
       " '知名校友']"
      ]
     },
     "execution_count": 52,
     "metadata": {},
     "output_type": "execute_result"
    }
   ],
   "source": [
    "key"
   ]
  },
  {
   "cell_type": "code",
   "execution_count": 53,
   "metadata": {},
   "outputs": [
    {
     "data": {
      "text/plain": [
       "['厦门大学',\n",
       " 'Xiamen University',\n",
       " '厦大（XMU）',\n",
       " '陈嘉庚',\n",
       " '1921年4月6日',\n",
       " '公立大学',\n",
       " '综合类',\n",
       " '211工程（1997年）\\n985工程（2001年）\\n111计划（2006年）\\n2011计划（2014年）\\n世界一流大学建设高校（2017年） 展开\\n属性\\n211工程（1997年）\\n985工程（2001年）\\n111计划（2006年）\\n2011计划（2014年）\\n世界一流大学建设高校（2017年）\\n研究生院\\n自主招生\\n国防生 收起',\n",
       " '中华人民共和国教育部',\n",
       " '党委书记：张彦\\n校长：张荣',\n",
       " '院士22人（含双聘院士9人） [5]',\n",
       " '学术学位授权一级学科52个\\n学术学位授权二级学科3个（不含一级学科覆盖）\\n专业学位授权类别24个',\n",
       " '学术学位授权一级学科33个\\n学术学位授权二级学科3个（不含一级学科覆盖）\\n专业学位授权类别1个',\n",
       " '科研流动站31个',\n",
       " '一级学科5个\\n二级学科9个（不含一级学科覆盖）',\n",
       " '经济学院 管理学院 法学院 新闻传播学院 信息科学与技术学院等29个学院',\n",
       " '自强不息\\xa0止于至善',\n",
       " '《厦门大学校歌》',\n",
       " '4月6日',\n",
       " '思明校区：福建省厦门市思明区思明南路422号（361005）\\n翔安校区：福建省厦门市翔安区翔安南路（361102）\\n漳州校区：福建漳州招商局经济技术开发区南滨大道300号（363105）\\n马来西亚分校：马来西亚雪兰莪州雪邦沙叻丁宜（43900）',\n",
       " '10384',\n",
       " '国家自然科学二等奖4项（十二五）\\n国际科学技术合作奖1项（十二五）\\n2013年中国科学十大进展\\n第五、六、七届国家级高等教育教学成果一等奖3项\\n全国毕业生就业典型经验高校（2014年）',\n",
       " '陈景润、余光中、张高丽、卢嘉锡、张存浩、谢希德']"
      ]
     },
     "execution_count": 53,
     "metadata": {},
     "output_type": "execute_result"
    }
   ],
   "source": [
    "value"
   ]
  },
  {
   "cell_type": "code",
   "execution_count": 19,
   "metadata": {},
   "outputs": [
    {
     "name": "stdout",
     "output_type": "stream",
     "text": [
      "思明校区：福建省厦门市思明区思明南路422号（361005）\n",
      "翔安校区：福建省厦门市翔安区翔安南路（361102）\n",
      "漳州校区：福建漳州招商局经济技术开发区南滨大道300号（363105）\n",
      "马来西亚分校：马来西亚雪兰莪州雪邦沙叻丁宜（43900）\n"
     ]
    }
   ],
   "source": [
    "sel = 'body > div.body-wrapper.feature.feature_small.collegeSmall > div.content-wrapper > div > div.main-content > div.main_tab.main_tab-defaultTab.curTab > div.basic-info.cmn-clearfix > dl.basicInfo-block.basicInfo-right > dd:nth-child(14)'\n",
    "print(r.html.find(sel, first=True).text)"
   ]
  },
  {
   "cell_type": "code",
   "execution_count": 54,
   "metadata": {},
   "outputs": [],
   "source": [
    "import pandas as pd\n",
    "\n",
    "subject = ['厦门大学' for i in range(len(key))] \n",
    "\n",
    "#字典中的key值即为csv中列名\n",
    "dataframe = pd.DataFrame({'subject':subject,'relation':key,'object':value})\n",
    "\n",
    "#将DataFrame存储为csv,index表示是否显示行名，default=True\n",
    "dataframe.to_csv(\"xmu_info_new.csv\",index=False,sep=',')"
   ]
  },
  {
   "cell_type": "code",
   "execution_count": 55,
   "metadata": {},
   "outputs": [],
   "source": [
    "import pandas as pd\n",
    "xmu = pd.read_csv(\"xmu_info_new.csv\",)"
   ]
  },
  {
   "cell_type": "code",
   "execution_count": 56,
   "metadata": {},
   "outputs": [
    {
     "data": {
      "text/html": [
       "<div>\n",
       "<style scoped>\n",
       "    .dataframe tbody tr th:only-of-type {\n",
       "        vertical-align: middle;\n",
       "    }\n",
       "\n",
       "    .dataframe tbody tr th {\n",
       "        vertical-align: top;\n",
       "    }\n",
       "\n",
       "    .dataframe thead th {\n",
       "        text-align: right;\n",
       "    }\n",
       "</style>\n",
       "<table border=\"1\" class=\"dataframe\">\n",
       "  <thead>\n",
       "    <tr style=\"text-align: right;\">\n",
       "      <th></th>\n",
       "      <th>subject</th>\n",
       "      <th>relation</th>\n",
       "      <th>object</th>\n",
       "    </tr>\n",
       "  </thead>\n",
       "  <tbody>\n",
       "    <tr>\n",
       "      <th>0</th>\n",
       "      <td>厦门大学</td>\n",
       "      <td>中文名</td>\n",
       "      <td>厦门大学</td>\n",
       "    </tr>\n",
       "    <tr>\n",
       "      <th>1</th>\n",
       "      <td>厦门大学</td>\n",
       "      <td>外文名</td>\n",
       "      <td>Xiamen University</td>\n",
       "    </tr>\n",
       "    <tr>\n",
       "      <th>2</th>\n",
       "      <td>厦门大学</td>\n",
       "      <td>简    称</td>\n",
       "      <td>厦大（XMU）</td>\n",
       "    </tr>\n",
       "    <tr>\n",
       "      <th>3</th>\n",
       "      <td>厦门大学</td>\n",
       "      <td>创办人</td>\n",
       "      <td>陈嘉庚</td>\n",
       "    </tr>\n",
       "    <tr>\n",
       "      <th>4</th>\n",
       "      <td>厦门大学</td>\n",
       "      <td>创办时间</td>\n",
       "      <td>1921年4月6日</td>\n",
       "    </tr>\n",
       "    <tr>\n",
       "      <th>5</th>\n",
       "      <td>厦门大学</td>\n",
       "      <td>类    别</td>\n",
       "      <td>公立大学</td>\n",
       "    </tr>\n",
       "    <tr>\n",
       "      <th>6</th>\n",
       "      <td>厦门大学</td>\n",
       "      <td>类    型</td>\n",
       "      <td>综合类</td>\n",
       "    </tr>\n",
       "    <tr>\n",
       "      <th>7</th>\n",
       "      <td>厦门大学</td>\n",
       "      <td>属    性</td>\n",
       "      <td>211工程（1997年）\\n985工程（2001年）\\n111计划（2006年）\\n2011...</td>\n",
       "    </tr>\n",
       "    <tr>\n",
       "      <th>8</th>\n",
       "      <td>厦门大学</td>\n",
       "      <td>主管部门</td>\n",
       "      <td>中华人民共和国教育部</td>\n",
       "    </tr>\n",
       "    <tr>\n",
       "      <th>9</th>\n",
       "      <td>厦门大学</td>\n",
       "      <td>现任领导</td>\n",
       "      <td>党委书记：张彦\\n校长：张荣</td>\n",
       "    </tr>\n",
       "    <tr>\n",
       "      <th>10</th>\n",
       "      <td>厦门大学</td>\n",
       "      <td>专职院士</td>\n",
       "      <td>院士22人（含双聘院士9人） [5]</td>\n",
       "    </tr>\n",
       "    <tr>\n",
       "      <th>11</th>\n",
       "      <td>厦门大学</td>\n",
       "      <td>硕士点</td>\n",
       "      <td>学术学位授权一级学科52个\\n学术学位授权二级学科3个（不含一级学科覆盖）\\n专业学位授权类...</td>\n",
       "    </tr>\n",
       "    <tr>\n",
       "      <th>12</th>\n",
       "      <td>厦门大学</td>\n",
       "      <td>博士点</td>\n",
       "      <td>学术学位授权一级学科33个\\n学术学位授权二级学科3个（不含一级学科覆盖）\\n专业学位授权类别1个</td>\n",
       "    </tr>\n",
       "    <tr>\n",
       "      <th>13</th>\n",
       "      <td>厦门大学</td>\n",
       "      <td>博士后</td>\n",
       "      <td>科研流动站31个</td>\n",
       "    </tr>\n",
       "    <tr>\n",
       "      <th>14</th>\n",
       "      <td>厦门大学</td>\n",
       "      <td>国家重点学科</td>\n",
       "      <td>一级学科5个\\n二级学科9个（不含一级学科覆盖）</td>\n",
       "    </tr>\n",
       "    <tr>\n",
       "      <th>15</th>\n",
       "      <td>厦门大学</td>\n",
       "      <td>院系设置</td>\n",
       "      <td>经济学院 管理学院 法学院 新闻传播学院 信息科学与技术学院等29个学院</td>\n",
       "    </tr>\n",
       "    <tr>\n",
       "      <th>16</th>\n",
       "      <td>厦门大学</td>\n",
       "      <td>校    训</td>\n",
       "      <td>自强不息 止于至善</td>\n",
       "    </tr>\n",
       "    <tr>\n",
       "      <th>17</th>\n",
       "      <td>厦门大学</td>\n",
       "      <td>校    歌</td>\n",
       "      <td>《厦门大学校歌》</td>\n",
       "    </tr>\n",
       "    <tr>\n",
       "      <th>18</th>\n",
       "      <td>厦门大学</td>\n",
       "      <td>校庆日</td>\n",
       "      <td>4月6日</td>\n",
       "    </tr>\n",
       "    <tr>\n",
       "      <th>19</th>\n",
       "      <td>厦门大学</td>\n",
       "      <td>地    址</td>\n",
       "      <td>思明校区：福建省厦门市思明区思明南路422号（361005）\\n翔安校区：福建省厦门市翔安区...</td>\n",
       "    </tr>\n",
       "    <tr>\n",
       "      <th>20</th>\n",
       "      <td>厦门大学</td>\n",
       "      <td>院校代码</td>\n",
       "      <td>10384</td>\n",
       "    </tr>\n",
       "    <tr>\n",
       "      <th>21</th>\n",
       "      <td>厦门大学</td>\n",
       "      <td>主要奖项</td>\n",
       "      <td>国家自然科学二等奖4项（十二五）\\n国际科学技术合作奖1项（十二五）\\n2013年中国科学十...</td>\n",
       "    </tr>\n",
       "    <tr>\n",
       "      <th>22</th>\n",
       "      <td>厦门大学</td>\n",
       "      <td>知名校友</td>\n",
       "      <td>陈景润、余光中、张高丽、卢嘉锡、张存浩、谢希德</td>\n",
       "    </tr>\n",
       "  </tbody>\n",
       "</table>\n",
       "</div>"
      ],
      "text/plain": [
       "   subject relation                                             object\n",
       "0     厦门大学      中文名                                               厦门大学\n",
       "1     厦门大学      外文名                                  Xiamen University\n",
       "2     厦门大学   简    称                                            厦大（XMU）\n",
       "3     厦门大学      创办人                                                陈嘉庚\n",
       "4     厦门大学     创办时间                                          1921年4月6日\n",
       "5     厦门大学   类    别                                               公立大学\n",
       "6     厦门大学   类    型                                                综合类\n",
       "7     厦门大学   属    性  211工程（1997年）\\n985工程（2001年）\\n111计划（2006年）\\n2011...\n",
       "8     厦门大学     主管部门                                         中华人民共和国教育部\n",
       "9     厦门大学     现任领导                                     党委书记：张彦\\n校长：张荣\n",
       "10    厦门大学     专职院士                                 院士22人（含双聘院士9人） [5]\n",
       "11    厦门大学      硕士点  学术学位授权一级学科52个\\n学术学位授权二级学科3个（不含一级学科覆盖）\\n专业学位授权类...\n",
       "12    厦门大学      博士点  学术学位授权一级学科33个\\n学术学位授权二级学科3个（不含一级学科覆盖）\\n专业学位授权类别1个\n",
       "13    厦门大学      博士后                                           科研流动站31个\n",
       "14    厦门大学   国家重点学科                           一级学科5个\\n二级学科9个（不含一级学科覆盖）\n",
       "15    厦门大学     院系设置               经济学院 管理学院 法学院 新闻传播学院 信息科学与技术学院等29个学院\n",
       "16    厦门大学   校    训                                          自强不息 止于至善\n",
       "17    厦门大学   校    歌                                           《厦门大学校歌》\n",
       "18    厦门大学      校庆日                                               4月6日\n",
       "19    厦门大学   地    址  思明校区：福建省厦门市思明区思明南路422号（361005）\\n翔安校区：福建省厦门市翔安区...\n",
       "20    厦门大学     院校代码                                              10384\n",
       "21    厦门大学     主要奖项  国家自然科学二等奖4项（十二五）\\n国际科学技术合作奖1项（十二五）\\n2013年中国科学十...\n",
       "22    厦门大学     知名校友                            陈景润、余光中、张高丽、卢嘉锡、张存浩、谢希德"
      ]
     },
     "execution_count": 56,
     "metadata": {},
     "output_type": "execute_result"
    }
   ],
   "source": [
    "xmu"
   ]
  },
  {
   "cell_type": "code",
   "execution_count": 31,
   "metadata": {},
   "outputs": [
    {
     "name": "stderr",
     "output_type": "stream",
     "text": [
      "/home/nbuser/anaconda3_501/lib/python3.6/site-packages/ipykernel/__main__.py:1: DeprecationWarning: \n",
      ".ix is deprecated. Please use\n",
      ".loc for label based indexing or\n",
      ".iloc for positional indexing\n",
      "\n",
      "See the documentation here:\n",
      "http://pandas.pydata.org/pandas-docs/stable/indexing.html#ix-indexer-is-deprecated\n",
      "  if __name__ == '__main__':\n"
     ]
    },
    {
     "ename": "IndexingError",
     "evalue": "Too many indexers",
     "output_type": "error",
     "traceback": [
      "\u001b[0;31m---------------------------------------------------------------------------\u001b[0m",
      "\u001b[0;31mIndexingError\u001b[0m                             Traceback (most recent call last)",
      "\u001b[0;32m<ipython-input-31-0cb153b6437b>\u001b[0m in \u001b[0;36m<module>\u001b[0;34m\u001b[0m\n\u001b[0;32m----> 1\u001b[0;31m \u001b[0mxmu\u001b[0m\u001b[0;34m[\u001b[0m\u001b[0;34m(\u001b[0m\u001b[0mxmu\u001b[0m\u001b[0;34m[\u001b[0m\u001b[0;34m'subject'\u001b[0m\u001b[0;34m]\u001b[0m \u001b[0;34m==\u001b[0m \u001b[0;34m'厦门大学'\u001b[0m\u001b[0;34m)\u001b[0m \u001b[0;34m&\u001b[0m \u001b[0;34m(\u001b[0m\u001b[0mxmu\u001b[0m\u001b[0;34m[\u001b[0m\u001b[0;34m'relation'\u001b[0m\u001b[0;34m]\u001b[0m \u001b[0;34m==\u001b[0m \u001b[0;34m'创办人'\u001b[0m\u001b[0;34m)\u001b[0m\u001b[0;34m]\u001b[0m\u001b[0;34m[\u001b[0m\u001b[0;34m'object'\u001b[0m\u001b[0;34m]\u001b[0m\u001b[0;34m.\u001b[0m\u001b[0mix\u001b[0m\u001b[0;34m[\u001b[0m\u001b[0;36m1\u001b[0m\u001b[0;34m,\u001b[0m\u001b[0;36m1\u001b[0m\u001b[0;34m]\u001b[0m\u001b[0;34m\u001b[0m\u001b[0m\n\u001b[0m",
      "\u001b[0;32m~/anaconda3_501/lib/python3.6/site-packages/pandas/core/indexing.py\u001b[0m in \u001b[0;36m__getitem__\u001b[0;34m(self, key)\u001b[0m\n\u001b[1;32m    114\u001b[0m                 \u001b[0;32mpass\u001b[0m\u001b[0;34m\u001b[0m\u001b[0m\n\u001b[1;32m    115\u001b[0m \u001b[0;34m\u001b[0m\u001b[0m\n\u001b[0;32m--> 116\u001b[0;31m             \u001b[0;32mreturn\u001b[0m \u001b[0mself\u001b[0m\u001b[0;34m.\u001b[0m\u001b[0m_getitem_tuple\u001b[0m\u001b[0;34m(\u001b[0m\u001b[0mkey\u001b[0m\u001b[0;34m)\u001b[0m\u001b[0;34m\u001b[0m\u001b[0m\n\u001b[0m\u001b[1;32m    117\u001b[0m         \u001b[0;32melse\u001b[0m\u001b[0;34m:\u001b[0m\u001b[0;34m\u001b[0m\u001b[0m\n\u001b[1;32m    118\u001b[0m             \u001b[0;31m# we by definition only have the 0th axis\u001b[0m\u001b[0;34m\u001b[0m\u001b[0;34m\u001b[0m\u001b[0m\n",
      "\u001b[0;32m~/anaconda3_501/lib/python3.6/site-packages/pandas/core/indexing.py\u001b[0m in \u001b[0;36m_getitem_tuple\u001b[0;34m(self, tup)\u001b[0m\n\u001b[1;32m    873\u001b[0m \u001b[0;34m\u001b[0m\u001b[0m\n\u001b[1;32m    874\u001b[0m         \u001b[0;31m# no multi-index, so validate all of the indexers\u001b[0m\u001b[0;34m\u001b[0m\u001b[0;34m\u001b[0m\u001b[0m\n\u001b[0;32m--> 875\u001b[0;31m         \u001b[0mself\u001b[0m\u001b[0;34m.\u001b[0m\u001b[0m_has_valid_tuple\u001b[0m\u001b[0;34m(\u001b[0m\u001b[0mtup\u001b[0m\u001b[0;34m)\u001b[0m\u001b[0;34m\u001b[0m\u001b[0m\n\u001b[0m\u001b[1;32m    876\u001b[0m \u001b[0;34m\u001b[0m\u001b[0m\n\u001b[1;32m    877\u001b[0m         \u001b[0;31m# ugly hack for GH #836\u001b[0m\u001b[0;34m\u001b[0m\u001b[0;34m\u001b[0m\u001b[0m\n",
      "\u001b[0;32m~/anaconda3_501/lib/python3.6/site-packages/pandas/core/indexing.py\u001b[0m in \u001b[0;36m_has_valid_tuple\u001b[0;34m(self, key)\u001b[0m\n\u001b[1;32m    218\u001b[0m         \u001b[0;32mfor\u001b[0m \u001b[0mi\u001b[0m\u001b[0;34m,\u001b[0m \u001b[0mk\u001b[0m \u001b[0;32min\u001b[0m \u001b[0menumerate\u001b[0m\u001b[0;34m(\u001b[0m\u001b[0mkey\u001b[0m\u001b[0;34m)\u001b[0m\u001b[0;34m:\u001b[0m\u001b[0;34m\u001b[0m\u001b[0m\n\u001b[1;32m    219\u001b[0m             \u001b[0;32mif\u001b[0m \u001b[0mi\u001b[0m \u001b[0;34m>=\u001b[0m \u001b[0mself\u001b[0m\u001b[0;34m.\u001b[0m\u001b[0mobj\u001b[0m\u001b[0;34m.\u001b[0m\u001b[0mndim\u001b[0m\u001b[0;34m:\u001b[0m\u001b[0;34m\u001b[0m\u001b[0m\n\u001b[0;32m--> 220\u001b[0;31m                 \u001b[0;32mraise\u001b[0m \u001b[0mIndexingError\u001b[0m\u001b[0;34m(\u001b[0m\u001b[0;34m'Too many indexers'\u001b[0m\u001b[0;34m)\u001b[0m\u001b[0;34m\u001b[0m\u001b[0m\n\u001b[0m\u001b[1;32m    221\u001b[0m             \u001b[0;32mtry\u001b[0m\u001b[0;34m:\u001b[0m\u001b[0;34m\u001b[0m\u001b[0m\n\u001b[1;32m    222\u001b[0m                 \u001b[0mself\u001b[0m\u001b[0;34m.\u001b[0m\u001b[0m_validate_key\u001b[0m\u001b[0;34m(\u001b[0m\u001b[0mk\u001b[0m\u001b[0;34m,\u001b[0m \u001b[0mi\u001b[0m\u001b[0;34m)\u001b[0m\u001b[0;34m\u001b[0m\u001b[0m\n",
      "\u001b[0;31mIndexingError\u001b[0m: Too many indexers"
     ]
    }
   ],
   "source": [
    "xmu[(xmu['subject'] == '厦门大学') & (xmu['relation'] == '创办人')]['object'].ix[1,1]"
   ]
  },
  {
   "cell_type": "code",
   "execution_count": 42,
   "metadata": {},
   "outputs": [
    {
     "data": {
      "text/plain": [
       "'3    陈嘉庚'"
      ]
     },
     "execution_count": 42,
     "metadata": {},
     "output_type": "execute_result"
    }
   ],
   "source": [
    "name = xmu.loc[(xmu['subject'] == '厦门大学') & (xmu['relation'] == '创办人')]['object'].to_string()"
   ]
  },
  {
   "cell_type": "code",
   "execution_count": 45,
   "metadata": {},
   "outputs": [],
   "source": [
    "name = xmu.loc[(xmu['subject'] == '厦门大学') & (xmu['relation'] == '创办人')]['object'].to_string()"
   ]
  },
  {
   "cell_type": "code",
   "execution_count": 46,
   "metadata": {},
   "outputs": [
    {
     "data": {
      "text/plain": [
       "'3    陈嘉庚'"
      ]
     },
     "execution_count": 46,
     "metadata": {},
     "output_type": "execute_result"
    }
   ],
   "source": [
    "name"
   ]
  },
  {
   "cell_type": "code",
   "execution_count": 48,
   "metadata": {},
   "outputs": [
    {
     "data": {
      "text/plain": [
       "['陈嘉庚']"
      ]
     },
     "execution_count": 48,
     "metadata": {},
     "output_type": "execute_result"
    }
   ],
   "source": [
    "import re\n",
    "re.findall('.*?([\\u4e00-\\u9fa5]+)',name)"
   ]
  },
  {
   "cell_type": "code",
   "execution_count": 50,
   "metadata": {},
   "outputs": [
    {
     "data": {
      "text/plain": [
       "'陈嘉庚'"
      ]
     },
     "execution_count": 50,
     "metadata": {},
     "output_type": "execute_result"
    }
   ],
   "source": [
    "name = \"\".join(re.findall('.*?([\\u4e00-\\u9fa5]+)',name))\n",
    "name"
   ]
  },
  {
   "cell_type": "code",
   "execution_count": null,
   "metadata": {},
   "outputs": [],
   "source": []
  }
 ],
 "metadata": {
  "hide_input": false,
  "kernelspec": {
   "display_name": "Python 3.6",
   "language": "python",
   "name": "python36"
  },
  "language_info": {
   "codemirror_mode": {
    "name": "ipython",
    "version": 3
   },
   "file_extension": ".py",
   "mimetype": "text/x-python",
   "name": "python",
   "nbconvert_exporter": "python",
   "pygments_lexer": "ipython3",
   "version": "3.6.6"
  },
  "toc": {
   "base_numbering": 1,
   "nav_menu": {},
   "number_sections": true,
   "sideBar": true,
   "skip_h1_title": false,
   "title_cell": "Table of Contents",
   "title_sidebar": "Contents",
   "toc_cell": false,
   "toc_position": {},
   "toc_section_display": true,
   "toc_window_display": false
  },
  "varInspector": {
   "cols": {
    "lenName": 16,
    "lenType": 16,
    "lenVar": 40
   },
   "kernels_config": {
    "python": {
     "delete_cmd_postfix": "",
     "delete_cmd_prefix": "del ",
     "library": "var_list.py",
     "varRefreshCmd": "print(var_dic_list())"
    },
    "r": {
     "delete_cmd_postfix": ") ",
     "delete_cmd_prefix": "rm(",
     "library": "var_list.r",
     "varRefreshCmd": "cat(var_dic_list()) "
    }
   },
   "types_to_exclude": [
    "module",
    "function",
    "builtin_function_or_method",
    "instance",
    "_Feature"
   ],
   "window_display": false
  }
 },
 "nbformat": 4,
 "nbformat_minor": 2
}
